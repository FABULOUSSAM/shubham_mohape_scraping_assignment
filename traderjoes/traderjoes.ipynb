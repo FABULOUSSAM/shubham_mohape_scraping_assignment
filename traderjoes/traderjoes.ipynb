{
 "cells": [
  {
   "cell_type": "code",
   "execution_count": 11,
   "metadata": {},
   "outputs": [],
   "source": [
    "import re\n",
    "import requests\n",
    "import pandas as pd\n",
    "import json\n",
    "from bs4 import BeautifulSoup\n",
    "import time"
   ]
  },
  {
   "cell_type": "markdown",
   "metadata": {},
   "source": [
    "## Scraping Category ID"
   ]
  },
  {
   "cell_type": "code",
   "execution_count": 12,
   "metadata": {},
   "outputs": [],
   "source": [
    "import requests\n",
    "\n",
    "headers = {\n",
    "    'accept': '*/*',\n",
    "    'accept-language': 'en-US,en;q=0.9',\n",
    "    'content-type': 'application/json',\n",
    "    'user-agent': 'Mozilla/5.0 (Windows NT 10.0; Win64; x64) AppleWebKit/537.36 (KHTML, like Gecko) Chrome/123.0.0.0 Safari/537.36',\n",
    "}\n",
    "\n",
    "sku_list = []\n",
    "\n",
    "for page_number in range(1, 5):  \n",
    "    json_data = {\n",
    "        'operationName': 'SearchProducts',\n",
    "        'variables': {\n",
    "            'storeCode': 'TJ',\n",
    "            'availability': '1',\n",
    "            'published': '1',\n",
    "            'categoryId': 8,\n",
    "            'currentPage': page_number,\n",
    "            'pageSize': 500,\n",
    "        },\n",
    "        'query': 'query SearchProducts($categoryId: String, $currentPage: Int, $pageSize: Int, $storeCode: String = \"TJ\", $availability: String = \"1\", $published: String = \"1\") {\\n  products(\\n    filter: {store_code: {eq: $storeCode}, published: {eq: $published}, availability: {match: $availability}, category_id: {eq: $categoryId}}\\n    currentPage: $currentPage\\n    pageSize: $pageSize\\n  ) {\\n    items {\\n      sku\\n      item_title\\n      category_hierarchy {\\n        id\\n        name\\n        __typename\\n      }\\n      primary_image\\n      primary_image_meta {\\n        url\\n        metadata\\n        __typename\\n      }\\n      sales_size\\n      sales_uom_description\\n      price_range {\\n        minimum_price {\\n          final_price {\\n            currency\\n            value\\n            __typename\\n          }\\n          __typename\\n        }\\n        __typename\\n      }\\n      retail_price\\n      fun_tags\\n      item_characteristics\\n      __typename\\n    }\\n    total_count\\n    pageInfo: page_info {\\n      currentPage: current_page\\n      totalPages: total_pages\\n      __typename\\n    }\\n    aggregations {\\n      attribute_code\\n      label\\n      count\\n      options {\\n        label\\n        value\\n        count\\n        __typename\\n      }\\n      __typename\\n    }\\n    __typename\\n  }\\n}\\n',\n",
    "    }\n",
    "\n",
    "    response = requests.post('https://www.traderjoes.com/api/graphql', headers=headers, json=json_data)\n",
    "    response_json = response.json()\n",
    "    \n",
    "    for product in response_json['data']['products']['items']:\n",
    "        sku_list.append(product['sku'])\n",
    "\n"
   ]
  },
  {
   "cell_type": "code",
   "execution_count": 13,
   "metadata": {},
   "outputs": [
    {
     "name": "stdout",
     "output_type": "stream",
     "text": [
      "1508\n"
     ]
    }
   ],
   "source": [
    "print(len(sku_list))"
   ]
  },
  {
   "cell_type": "code",
   "execution_count": 58,
   "metadata": {},
   "outputs": [],
   "source": [
    "def create_product_link(product_id, product_title):\n",
    "    product_final_link = '-'.join(product_title.split()).strip() + '-' + str(product_id)\n",
    "    url = 'https://www.traderjoes.com/home/products/pdp/' + product_final_link\n",
    "    return url\n",
    "\n",
    "def get_non_html_tags_text(desc):\n",
    "    soup = BeautifulSoup(desc,'html.parser')\n",
    "    return soup.text\n",
    "\n",
    "def get_availability_status(count):\n",
    "    if int(count) > 0:\n",
    "        availability_status='InStock'\n",
    "    else:\n",
    "        availability_status='OutOfStock'\n",
    "    \n",
    "    return availability_status\n",
    "\n",
    "\n",
    "def extract_nutrition_data(nutrition_list):  \n",
    "    if nutrition_list is not None:  \n",
    "        extracted_data = {\n",
    "            'serving_size': None,\n",
    "            'calories_per_serving': None,\n",
    "            'servings_per_container': None,\n",
    "            'details': []\n",
    "        }\n",
    "        \n",
    "        for entry in nutrition_list:\n",
    "            serving_size = entry['serving_size']\n",
    "            calories_per_serving = entry['calories_per_serving']\n",
    "            servings_per_container = entry['servings_per_container']\n",
    "            \n",
    "            for detail in entry['details']:\n",
    "                extracted_detail = {\n",
    "                    'nutritional_item': detail.get('nutritional_item'),\n",
    "                    'amount': detail.get('amount'),\n",
    "                    'percent_dv': detail.get('percent_dv')\n",
    "                }\n",
    "                extracted_data['details'].append(extracted_detail)\n",
    "            \n",
    "            extracted_data['serving_size'] = serving_size\n",
    "            extracted_data['calories_per_serving'] = calories_per_serving\n",
    "            extracted_data['servings_per_container'] = servings_per_container\n",
    "\n",
    "        # print(extracted_data)\n",
    "        return extracted_data\n",
    "    else:\n",
    "        None\n",
    "\n"
   ]
  },
  {
   "cell_type": "markdown",
   "metadata": {},
   "source": [
    "## Scraping PDP Data\n"
   ]
  },
  {
   "cell_type": "code",
   "execution_count": 59,
   "metadata": {},
   "outputs": [],
   "source": [
    "def get_pdp_data(product_id):\n",
    "\n",
    "    headers = {\n",
    "        'accept': '*/*',\n",
    "        'accept-language': 'en-US,en;q=0.9',\n",
    "        'content-type': 'application/json',\n",
    "        'user-agent': 'Mozilla/5.0 (Windows NT 10.0; Win64; x64) AppleWebKit/537.36 (KHTML, like Gecko) Chrome/123.0.0.0 Safari/537.36',\n",
    "    }\n",
    "\n",
    "    json_data = {\n",
    "        'operationName': 'SearchProduct',\n",
    "        'variables': {\n",
    "            'storeCode': 'TJ',\n",
    "            'published': '1',\n",
    "            'sku': '{}'.format(product_id),\n",
    "        },\n",
    "        'query': 'query SearchProduct($sku: String, $storeCode: String = \"TJ\", $published: String = \"1\") {\\n  products(\\n    filter: {sku: {eq: $sku}, store_code: {eq: $storeCode}, published: {eq: $published}}\\n  ) {\\n    items {\\n      category_hierarchy {\\n        id\\n        url_key\\n        description\\n        name\\n        position\\n        level\\n        created_at\\n        updated_at\\n        product_count\\n        __typename\\n      }\\n      item_story_marketing\\n      product_label\\n      fun_tags\\n      primary_image\\n      primary_image_meta {\\n        url\\n        metadata\\n        __typename\\n      }\\n      other_images\\n      other_images_meta {\\n        url\\n        metadata\\n        __typename\\n      }\\n      context_image\\n      context_image_meta {\\n        url\\n        metadata\\n        __typename\\n      }\\n      published\\n      sku\\n      url_key\\n      name\\n      item_description\\n      item_title\\n      item_characteristics\\n      item_story_qil\\n      use_and_demo\\n      sales_size\\n      sales_uom_code\\n      sales_uom_description\\n      country_of_origin\\n      availability\\n      new_product\\n      promotion\\n      price_range {\\n        minimum_price {\\n          final_price {\\n            currency\\n            value\\n            __typename\\n          }\\n          __typename\\n        }\\n        __typename\\n      }\\n      retail_price\\n      nutrition {\\n        display_sequence\\n        panel_id\\n        panel_title\\n        serving_size\\n        calories_per_serving\\n        servings_per_container\\n        details {\\n          display_seq\\n          nutritional_item\\n          amount\\n          percent_dv\\n          __typename\\n        }\\n        __typename\\n      }\\n      ingredients {\\n        display_sequence\\n        ingredient\\n        __typename\\n      }\\n      allergens {\\n        display_sequence\\n        ingredient\\n        __typename\\n      }\\n      created_at\\n      first_published_date\\n      last_published_date\\n      updated_at\\n      related_products {\\n        sku\\n        item_title\\n        primary_image\\n        primary_image_meta {\\n          url\\n          metadata\\n          __typename\\n        }\\n        price_range {\\n          minimum_price {\\n            final_price {\\n              currency\\n              value\\n              __typename\\n            }\\n            __typename\\n          }\\n          __typename\\n        }\\n        retail_price\\n        sales_size\\n        sales_uom_description\\n        category_hierarchy {\\n          id\\n          name\\n          __typename\\n        }\\n        __typename\\n      }\\n      __typename\\n    }\\n    total_count\\n    page_info {\\n      current_page\\n      page_size\\n      total_pages\\n      __typename\\n    }\\n    __typename\\n  }\\n}\\n',\n",
    "    }\n",
    "\n",
    "    pdp_response = requests.post('https://www.traderjoes.com/api/graphql', cookies=None, headers=headers, json=json_data)\n",
    "\n",
    "    if pdp_response.status_code == 200:\n",
    "        try:\n",
    "            pdp_json_data = json.loads(pdp_response.text)\n",
    "            for data in pdp_json_data['data']['products']['items']:\n",
    "                pdp_url = create_product_link(data['sku'],data['item_title'])\n",
    "                json_pdp_data = {\n",
    "                    'brand': \"Traders Joe's\",\n",
    "                    'title': data['item_title'],\n",
    "                    'description' : get_non_html_tags_text(data['item_story_marketing']),\n",
    "                    'image' : \"https://www.traderjoes.com\" +data.get('primary_image'),\n",
    "                    'images': [None if data.get('context_image') is None or data.get('primary_image') is None else 'https://www.traderjoes.com' + data.get('context_image'), \"https://www.traderjoes.com\" + data.get('primary_image')],\n",
    "                    'retail_price':\"$\"+data['retail_price'],\n",
    "                    'final_price': \"$\" + str(data['price_range']['minimum_price']['final_price'].get('value',[])),\n",
    "                    'url':pdp_url,\n",
    "                    'product_id':int(data['sku']),\n",
    "                    'category': data['category_hierarchy'][1].get('name',None),\n",
    "                    'sales_size': str(data.get('sales_size')) +\" \"+data['sales_uom_description'],\n",
    "                    'availability' : get_availability_status(data['availability']),\n",
    "                    'Buzzwords': [words for words in data.get('fun_tags',[])],\n",
    "                    'nutrition': extract_nutrition_data(data['nutrition']),\n",
    "                    'ingredients' : None if data.get('ingredients') is None else [detail[\"ingredient\"] for detail in data['ingredients']],\n",
    "                    'country_of_origin':data['country_of_origin']\n",
    "                }\n",
    "                return json_pdp_data\n",
    "                \n",
    "        except Exception as e:\n",
    "            return None\n",
    "\n",
    "\n"
   ]
  },
  {
   "cell_type": "markdown",
   "metadata": {},
   "source": [
    "## Multithreading in order to Scrape Faster"
   ]
  },
  {
   "cell_type": "code",
   "execution_count": 60,
   "metadata": {},
   "outputs": [],
   "source": [
    "import threading\n",
    "\n",
    "final_pdp_list = []\n",
    "lock = threading.Lock()\n",
    "\n",
    "def fetch_pdp_data(sku_value):\n",
    "    global final_pdp_list\n",
    "    sku_json = get_pdp_data(sku_value)\n",
    "    with lock:\n",
    "        if sku_json is not None:\n",
    "            final_pdp_list.append(sku_json)\n",
    "\n",
    "num_threads = 5 \n",
    "\n",
    "threads = []\n",
    "for sku_value in sku_list:\n",
    "    thread = threading.Thread(target=fetch_pdp_data, args=(sku_value,))\n",
    "    thread.start()\n",
    "    threads.append(thread)\n",
    "\n",
    "for thread in threads:\n",
    "    thread.join()\n",
    "\n"
   ]
  },
  {
   "cell_type": "code",
   "execution_count": 61,
   "metadata": {},
   "outputs": [],
   "source": [
    "with open(r'Output\\traderjoes.json', 'w') as json_file:\n",
    "    json.dump(final_pdp_list, json_file)"
   ]
  }
 ],
 "metadata": {
  "kernelspec": {
   "display_name": "Python 3",
   "language": "python",
   "name": "python3"
  },
  "language_info": {
   "codemirror_mode": {
    "name": "ipython",
    "version": 3
   },
   "file_extension": ".py",
   "mimetype": "text/x-python",
   "name": "python",
   "nbconvert_exporter": "python",
   "pygments_lexer": "ipython3",
   "version": "3.10.10"
  }
 },
 "nbformat": 4,
 "nbformat_minor": 2
}
