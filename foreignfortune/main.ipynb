{
 "cells": [
  {
   "cell_type": "markdown",
   "metadata": {},
   "source": [
    "## Scraping Category Links\n"
   ]
  },
  {
   "cell_type": "code",
   "execution_count": 2,
   "metadata": {},
   "outputs": [
    {
     "name": "stdout",
     "output_type": "stream",
     "text": [
      "{'Men/Unisex': 'https://foreignfortune.com/collections/men-unisex', 'Women': 'https://foreignfortune.com/collections/women', 'Infant/Kid': 'https://foreignfortune.com/collections/kids', 'Coats/Hats': 'https://foreignfortune.com/collections/coats-hats', 'TrackSuits': 'https://foreignfortune.com/collections/small-logo-embroidery-t-shirts-1', 'Foreign Rovalf': 'https://foreignfortune.com/collections/frontpage', 'Accessories': 'https://foreignfortune.com/collections/foreign-accesories'}\n"
     ]
    }
   ],
   "source": [
    "import requests\n",
    "from bs4 import BeautifulSoup\n",
    "import json\n",
    "\n",
    "url = \"https://foreignfortune.com\"\n",
    "\n",
    "response = requests.get(url)\n",
    "\n",
    "category_dict = {}\n",
    "if response.status_code == 200:\n",
    "    soup = BeautifulSoup(response.text, \"html.parser\")\n",
    "    links = soup.select('#SiteNav li a')\n",
    "    for link in links:\n",
    "        category_name = link.text.strip()\n",
    "        category_link = \"https://foreignfortune.com\" + link['href']\n",
    "        category_dict[category_name] = category_link\n",
    "    \n",
    "    print(category_dict)\n",
    "    \n",
    "else:\n",
    "    print(\"Failed to retrieve the website.\")\n"
   ]
  },
  {
   "cell_type": "code",
   "execution_count": 3,
   "metadata": {},
   "outputs": [],
   "source": [
    "def get_links_from_page(url):\n",
    "    response = requests.get(url)\n",
    "    if response.status_code == 200:\n",
    "        soup = BeautifulSoup(response.content, 'html.parser')\n",
    "        \n",
    "        links = soup.select('#Collection .grid__item.grid__item--collection-template .grid-view-item__link')\n",
    "        \n",
    "        link_urls = [\"https://foreignfortune.com\" + link['href'] for link in links]\n",
    "        \n",
    "        return link_urls\n",
    "    else:\n",
    "        print(\"Failed to retrieve page:\", response.status_code)\n",
    "        return []\n",
    "\n",
    "def get_all_links(base_url):\n",
    "    all_links = []\n",
    "    page_number = 1\n",
    "    \n",
    "    while True:\n",
    "        url = f\"{base_url}?page={page_number}\"\n",
    "        links_on_page = get_links_from_page(url)\n",
    "        \n",
    "        if not links_on_page:\n",
    "            break\n",
    "        \n",
    "        all_links.extend(links_on_page)\n",
    "        page_number += 1\n",
    "    \n",
    "    return all_links"
   ]
  },
  {
   "cell_type": "markdown",
   "metadata": {},
   "source": [
    "## Scraping PDP's Links in each Cateogry\n"
   ]
  },
  {
   "cell_type": "code",
   "execution_count": 5,
   "metadata": {},
   "outputs": [
    {
     "name": "stdout",
     "output_type": "stream",
     "text": [
      "{'Men/Unisex': ['https://foreignfortune.com/collections/men-unisex/products/foreign-fortune-collection-joggers-1', 'https://foreignfortune.com/collections/men-unisex/products/foreign-rovalf-outfit', 'https://foreignfortune.com/collections/men-unisex/products/forign-luxury-tracksuits', 'https://foreignfortune.com/collections/men-unisex/products/ff-coats-w-hats', 'https://foreignfortune.com/collections/men-unisex/products/foreign-language-hoodie', 'https://foreignfortune.com/collections/men-unisex/products/detroit-foreign-everybody-tees', 'https://foreignfortune.com/collections/men-unisex/products/foreign-fortune-collection-short-sets', 'https://foreignfortune.com/collections/men-unisex/products/long-socks-muti-color', 'https://foreignfortune.com/collections/men-unisex/products/foreign-pattern-logo-socks', 'https://foreignfortune.com/collections/men-unisex/products/foreign-fortune-socks-1', 'https://foreignfortune.com/collections/men-unisex/products/long-foreign-socks', 'https://foreignfortune.com/collections/men-unisex/products/foreign-velour-outfits', 'https://foreignfortune.com/collections/men-unisex/products/foreign-trench-coats', 'https://foreignfortune.com/collections/men-unisex/products/foreign-fortune-tees', 'https://foreignfortune.com/collections/men-unisex/products/it-don-t-stop-foreign-fortune-tees'], 'Women': ['https://foreignfortune.com/collections/women/products/foreign-fortune-two-piece-yoga-set', 'https://foreignfortune.com/collections/women/products/foreign-fortune-lipgloss', 'https://foreignfortune.com/collections/women/products/foreign-fortune-bodysuit', 'https://foreignfortune.com/collections/women/products/foreign-rovalf-bodysuit', 'https://foreignfortune.com/collections/women/products/foreign-fortune-swimsuits'], 'Infant/Kid': ['https://foreignfortune.com/collections/kids/products/foreign-fortune-collection-joggers', 'https://foreignfortune.com/collections/kids/products/kids-tracksuit'], 'Coats/Hats': ['https://foreignfortune.com/collections/coats-hats/products/ff-coats-w-hats', 'https://foreignfortune.com/collections/coats-hats/products/ff-hats', 'https://foreignfortune.com/collections/coats-hats/products/foreign-fortune-bucket-hats', 'https://foreignfortune.com/collections/coats-hats/products/foreign-hats', 'https://foreignfortune.com/collections/coats-hats/products/foreign-fortune-ski-mask'], 'TrackSuits': ['https://foreignfortune.com/collections/small-logo-embroidery-t-shirts-1/products/foreign-fortune-collection-joggers', 'https://foreignfortune.com/collections/small-logo-embroidery-t-shirts-1/products/foreign-fortune-collection-joggers-1'], 'Foreign Rovalf': ['https://foreignfortune.com/collections/frontpage/products/foreign-palm-trees-hoodie', 'https://foreignfortune.com/collections/frontpage/products/rovalf-palm-tree-hoodies', 'https://foreignfortune.com/collections/frontpage/products/foreign-rovalf-outfits-1', 'https://foreignfortune.com/collections/frontpage/products/never-give-up', 'https://foreignfortune.com/collections/frontpage/products/foreign-rovalf-short-sets-1', 'https://foreignfortune.com/collections/frontpage/products/foreign-rovalf-yacht-fit', 'https://foreignfortune.com/collections/frontpage/products/foreign-rovalf-chanel-gucci-outfit', 'https://foreignfortune.com/collections/frontpage/products/foreign-yak-outfit', 'https://foreignfortune.com/collections/frontpage/products/rovalf-self-esteem-hoodie', 'https://foreignfortune.com/collections/frontpage/products/foreign-rovalf-overcome-hoodie', 'https://foreignfortune.com/collections/frontpage/products/foreign-yeezy-hoodie', 'https://foreignfortune.com/collections/frontpage/products/the-race-hoodie', 'https://foreignfortune.com/collections/frontpage/products/slum-babies-hoodie', 'https://foreignfortune.com/collections/frontpage/products/trap-art-tshirt', 'https://foreignfortune.com/collections/frontpage/products/high-end-tshirt', 'https://foreignfortune.com/collections/frontpage/products/foreign-rovalf-trackpants', 'https://foreignfortune.com/collections/frontpage/products/foreign-chains-tshirt', 'https://foreignfortune.com/collections/frontpage/products/foreign-rovalf-bodysuit'], 'Accessories': ['https://foreignfortune.com/collections/foreign-accesories/products/3-piece-bag-set', 'https://foreignfortune.com/collections/foreign-accesories/products/lighter-holder-w-string', 'https://foreignfortune.com/collections/foreign-accesories/products/cell-phone-popper-s', 'https://foreignfortune.com/collections/foreign-accesories/products/foreign-fortune-character-lighters', 'https://foreignfortune.com/collections/foreign-accesories/products/foreign-keychain', 'https://foreignfortune.com/collections/foreign-accesories/products/foreign-fortune-pins', 'https://foreignfortune.com/collections/foreign-accesories/products/foreign-fortune-shades', 'https://foreignfortune.com/collections/foreign-accesories/products/foreign-pattern-logo-socks', 'https://foreignfortune.com/collections/foreign-accesories/products/foreign-fortune-socks-1', 'https://foreignfortune.com/collections/foreign-accesories/products/foreign-fortune-bucket-hats']}\n"
     ]
    }
   ],
   "source": [
    "category_wise_dict={}\n",
    "count=0\n",
    "for links in category_dict:\n",
    "    count+=1\n",
    "    links_list=get_all_links(category_dict[links])\n",
    "    category_wise_dict[links]=links_list\n",
    "print(category_wise_dict)\n",
    "# print(count)\n",
    "    "
   ]
  },
  {
   "cell_type": "markdown",
   "metadata": {},
   "source": [
    "## PDP Data Parsing"
   ]
  },
  {
   "cell_type": "code",
   "execution_count": 6,
   "metadata": {},
   "outputs": [
    {
     "name": "stdout",
     "output_type": "stream",
     "text": [
      "{'brand': 'Foreign Fortune Clothing', 'description': 'Our Foreign Fortune Collection Joggers are great for the entire family. Very comfortable and versatile. They come in 5 different colors and can be worn during any season.', 'image': 'https://foreignfortune.com/cdn/shop/products/D30946DA-5D18-48D6-9890-63DC5DB36F77.jpg?v=1647614117', 'images': ['https://foreignfortune.com/cdn/shop/products/D30946DA-5D18-48D6-9890-63DC5DB36F77.jpg?v=1647614117', 'https://foreignfortune.com/cdn/shop/products/3EE2E126-721C-4DDE-A1EB-E3B355F2B674.jpg?v=1647614117', 'https://foreignfortune.com/cdn/shop/products/C8134772-8681-4EF4-810A-970DCBD13F28.jpg?v=1647614117', 'https://foreignfortune.com/cdn/shop/products/827B72E9-79B6-4401-AE76-29F3AFDA483F.jpg?v=1647614117', 'https://foreignfortune.com/cdn/shop/products/DD1E038F-07C5-410A-A846-A50187C8929E.jpg?v=1647614114', 'https://foreignfortune.com/cdn/shop/products/F2960363-A13C-427B-9E1C-9E5D79EC15D1.jpg?v=1647609938'], 'variants': [{'id': '41228637077697', 'price': 180.0, 'variant_name': 'XS / Black / Hood', 'image': 'https://foreignfortune.com/cdn/shop/products/D30946DA-5D18-48D6-9890-63DC5DB36F77.jpg?v=1647614117', 'Size': 'XS', 'Color': 'Black', 'Style': 'Hood'}, {'id': '41228874612929', 'price': 180.0, 'variant_name': 'XS / Black / Crewneck', 'image': 'https://foreignfortune.com/cdn/shop/products/D30946DA-5D18-48D6-9890-63DC5DB36F77.jpg?v=1647614117', 'Size': 'XS', 'Color': 'Black', 'Style': 'Crewneck'}, {'id': '41228637110465', 'price': 180.0, 'variant_name': 'XS / Green / Hood', 'image': 'https://foreignfortune.com/cdn/shop/products/D30946DA-5D18-48D6-9890-63DC5DB36F77.jpg?v=1647614117', 'Size': 'XS', 'Color': 'Green', 'Style': 'Hood'}, {'id': '41228874645697', 'price': 180.0, 'variant_name': 'XS / Green / Crewneck', 'image': 'https://foreignfortune.com/cdn/shop/products/D30946DA-5D18-48D6-9890-63DC5DB36F77.jpg?v=1647614117', 'Size': 'XS', 'Color': 'Green', 'Style': 'Crewneck'}, {'id': '41228637208769', 'price': 180.0, 'variant_name': 'XS / Grey / Hood', 'image': 'https://foreignfortune.com/cdn/shop/products/D30946DA-5D18-48D6-9890-63DC5DB36F77.jpg?v=1647614117', 'Size': 'XS', 'Color': 'Grey', 'Style': 'Hood'}, {'id': '41228874744001', 'price': 180.0, 'variant_name': 'XS / Grey / Crewneck', 'image': 'https://foreignfortune.com/cdn/shop/products/D30946DA-5D18-48D6-9890-63DC5DB36F77.jpg?v=1647614117', 'Size': 'XS', 'Color': 'Grey', 'Style': 'Crewneck'}, {'id': '41417727967425', 'price': 180.0, 'variant_name': 'XS / Navy Blue / Hood', 'image': 'https://foreignfortune.com/cdn/shop/products/D30946DA-5D18-48D6-9890-63DC5DB36F77.jpg?v=1647614117', 'Size': 'XS', 'Color': 'Navy Blue', 'Style': 'Hood'}, {'id': '41417728000193', 'price': 180.0, 'variant_name': 'XS / Navy Blue / Crewneck', 'image': 'https://foreignfortune.com/cdn/shop/products/D30946DA-5D18-48D6-9890-63DC5DB36F77.jpg?v=1647614117', 'Size': 'XS', 'Color': 'Navy Blue', 'Style': 'Crewneck'}, {'id': '41417728032961', 'price': 180.0, 'variant_name': 'XS / Red / Hood', 'image': 'https://foreignfortune.com/cdn/shop/products/D30946DA-5D18-48D6-9890-63DC5DB36F77.jpg?v=1647614117', 'Size': 'XS', 'Color': 'Red', 'Style': 'Hood'}, {'id': '41417728065729', 'price': 180.0, 'variant_name': 'XS / Red / Crewneck', 'image': 'https://foreignfortune.com/cdn/shop/products/D30946DA-5D18-48D6-9890-63DC5DB36F77.jpg?v=1647614117', 'Size': 'XS', 'Color': 'Red', 'Style': 'Crewneck'}, {'id': '41417728098497', 'price': 180.0, 'variant_name': 'XS / Yellow / Hood', 'image': 'https://foreignfortune.com/cdn/shop/products/D30946DA-5D18-48D6-9890-63DC5DB36F77.jpg?v=1647614117', 'Size': 'XS', 'Color': 'Yellow', 'Style': 'Hood'}, {'id': '41417728131265', 'price': 180.0, 'variant_name': 'XS / Yellow / Crewneck', 'image': 'https://foreignfortune.com/cdn/shop/products/D30946DA-5D18-48D6-9890-63DC5DB36F77.jpg?v=1647614117', 'Size': 'XS', 'Color': 'Yellow', 'Style': 'Crewneck'}, {'id': '41228637241537', 'price': 180.0, 'variant_name': 'M / Black / Hood', 'image': 'https://foreignfortune.com/cdn/shop/products/D30946DA-5D18-48D6-9890-63DC5DB36F77.jpg?v=1647614117', 'Size': 'M', 'Color': 'Black', 'Style': 'Hood'}, {'id': '41228874776769', 'price': 180.0, 'variant_name': 'M / Black / Crewneck', 'image': 'https://foreignfortune.com/cdn/shop/products/D30946DA-5D18-48D6-9890-63DC5DB36F77.jpg?v=1647614117', 'Size': 'M', 'Color': 'Black', 'Style': 'Crewneck'}, {'id': '41228637274305', 'price': 180.0, 'variant_name': 'M / Green / Hood', 'image': 'https://foreignfortune.com/cdn/shop/products/D30946DA-5D18-48D6-9890-63DC5DB36F77.jpg?v=1647614117', 'Size': 'M', 'Color': 'Green', 'Style': 'Hood'}, {'id': '41228874809537', 'price': 180.0, 'variant_name': 'M / Green / Crewneck', 'image': 'https://foreignfortune.com/cdn/shop/products/D30946DA-5D18-48D6-9890-63DC5DB36F77.jpg?v=1647614117', 'Size': 'M', 'Color': 'Green', 'Style': 'Crewneck'}, {'id': '41228637405377', 'price': 180.0, 'variant_name': 'M / Grey / Hood', 'image': 'https://foreignfortune.com/cdn/shop/products/D30946DA-5D18-48D6-9890-63DC5DB36F77.jpg?v=1647614117', 'Size': 'M', 'Color': 'Grey', 'Style': 'Hood'}, {'id': '41228874907841', 'price': 180.0, 'variant_name': 'M / Grey / Crewneck', 'image': 'https://foreignfortune.com/cdn/shop/products/D30946DA-5D18-48D6-9890-63DC5DB36F77.jpg?v=1647614117', 'Size': 'M', 'Color': 'Grey', 'Style': 'Crewneck'}, {'id': '41417728164033', 'price': 180.0, 'variant_name': 'M / Navy Blue / Hood', 'image': 'https://foreignfortune.com/cdn/shop/products/D30946DA-5D18-48D6-9890-63DC5DB36F77.jpg?v=1647614117', 'Size': 'M', 'Color': 'Navy Blue', 'Style': 'Hood'}, {'id': '41417728196801', 'price': 180.0, 'variant_name': 'M / Navy Blue / Crewneck', 'image': 'https://foreignfortune.com/cdn/shop/products/D30946DA-5D18-48D6-9890-63DC5DB36F77.jpg?v=1647614117', 'Size': 'M', 'Color': 'Navy Blue', 'Style': 'Crewneck'}, {'id': '41417728229569', 'price': 180.0, 'variant_name': 'M / Red / Hood', 'image': 'https://foreignfortune.com/cdn/shop/products/D30946DA-5D18-48D6-9890-63DC5DB36F77.jpg?v=1647614117', 'Size': 'M', 'Color': 'Red', 'Style': 'Hood'}, {'id': '41417728262337', 'price': 180.0, 'variant_name': 'M / Red / Crewneck', 'image': 'https://foreignfortune.com/cdn/shop/products/D30946DA-5D18-48D6-9890-63DC5DB36F77.jpg?v=1647614117', 'Size': 'M', 'Color': 'Red', 'Style': 'Crewneck'}, {'id': '41417728295105', 'price': 180.0, 'variant_name': 'M / Yellow / Hood', 'image': 'https://foreignfortune.com/cdn/shop/products/D30946DA-5D18-48D6-9890-63DC5DB36F77.jpg?v=1647614117', 'Size': 'M', 'Color': 'Yellow', 'Style': 'Hood'}, {'id': '41417728327873', 'price': 180.0, 'variant_name': 'M / Yellow / Crewneck', 'image': 'https://foreignfortune.com/cdn/shop/products/D30946DA-5D18-48D6-9890-63DC5DB36F77.jpg?v=1647614117', 'Size': 'M', 'Color': 'Yellow', 'Style': 'Crewneck'}, {'id': '41228637438145', 'price': 180.0, 'variant_name': 'L / Black / Hood', 'image': 'https://foreignfortune.com/cdn/shop/products/D30946DA-5D18-48D6-9890-63DC5DB36F77.jpg?v=1647614117', 'Size': 'L', 'Color': 'Black', 'Style': 'Hood'}, {'id': '41228874940609', 'price': 180.0, 'variant_name': 'L / Black / Crewneck', 'image': 'https://foreignfortune.com/cdn/shop/products/D30946DA-5D18-48D6-9890-63DC5DB36F77.jpg?v=1647614117', 'Size': 'L', 'Color': 'Black', 'Style': 'Crewneck'}, {'id': '41228637470913', 'price': 180.0, 'variant_name': 'L / Green / Hood', 'image': 'https://foreignfortune.com/cdn/shop/products/D30946DA-5D18-48D6-9890-63DC5DB36F77.jpg?v=1647614117', 'Size': 'L', 'Color': 'Green', 'Style': 'Hood'}, {'id': '41228874973377', 'price': 180.0, 'variant_name': 'L / Green / Crewneck', 'image': 'https://foreignfortune.com/cdn/shop/products/D30946DA-5D18-48D6-9890-63DC5DB36F77.jpg?v=1647614117', 'Size': 'L', 'Color': 'Green', 'Style': 'Crewneck'}, {'id': '41228637569217', 'price': 180.0, 'variant_name': 'L / Grey / Hood', 'image': 'https://foreignfortune.com/cdn/shop/products/D30946DA-5D18-48D6-9890-63DC5DB36F77.jpg?v=1647614117', 'Size': 'L', 'Color': 'Grey', 'Style': 'Hood'}, {'id': '41228875071681', 'price': 180.0, 'variant_name': 'L / Grey / Crewneck', 'image': 'https://foreignfortune.com/cdn/shop/products/D30946DA-5D18-48D6-9890-63DC5DB36F77.jpg?v=1647614117', 'Size': 'L', 'Color': 'Grey', 'Style': 'Crewneck'}, {'id': '41417728360641', 'price': 180.0, 'variant_name': 'L / Navy Blue / Hood', 'image': 'https://foreignfortune.com/cdn/shop/products/D30946DA-5D18-48D6-9890-63DC5DB36F77.jpg?v=1647614117', 'Size': 'L', 'Color': 'Navy Blue', 'Style': 'Hood'}, {'id': '41417728393409', 'price': 180.0, 'variant_name': 'L / Navy Blue / Crewneck', 'image': 'https://foreignfortune.com/cdn/shop/products/D30946DA-5D18-48D6-9890-63DC5DB36F77.jpg?v=1647614117', 'Size': 'L', 'Color': 'Navy Blue', 'Style': 'Crewneck'}, {'id': '41417728426177', 'price': 180.0, 'variant_name': 'L / Red / Hood', 'image': 'https://foreignfortune.com/cdn/shop/products/D30946DA-5D18-48D6-9890-63DC5DB36F77.jpg?v=1647614117', 'Size': 'L', 'Color': 'Red', 'Style': 'Hood'}, {'id': '41417728458945', 'price': 180.0, 'variant_name': 'L / Red / Crewneck', 'image': 'https://foreignfortune.com/cdn/shop/products/D30946DA-5D18-48D6-9890-63DC5DB36F77.jpg?v=1647614117', 'Size': 'L', 'Color': 'Red', 'Style': 'Crewneck'}, {'id': '41417728491713', 'price': 180.0, 'variant_name': 'L / Yellow / Hood', 'image': 'https://foreignfortune.com/cdn/shop/products/D30946DA-5D18-48D6-9890-63DC5DB36F77.jpg?v=1647614117', 'Size': 'L', 'Color': 'Yellow', 'Style': 'Hood'}, {'id': '41417728524481', 'price': 180.0, 'variant_name': 'L / Yellow / Crewneck', 'image': 'https://foreignfortune.com/cdn/shop/products/D30946DA-5D18-48D6-9890-63DC5DB36F77.jpg?v=1647614117', 'Size': 'L', 'Color': 'Yellow', 'Style': 'Crewneck'}, {'id': '41228637601985', 'price': 180.0, 'variant_name': 'XL / Black / Hood', 'image': 'https://foreignfortune.com/cdn/shop/products/D30946DA-5D18-48D6-9890-63DC5DB36F77.jpg?v=1647614117', 'Size': 'XL', 'Color': 'Black', 'Style': 'Hood'}, {'id': '41228875104449', 'price': 180.0, 'variant_name': 'XL / Black / Crewneck', 'image': 'https://foreignfortune.com/cdn/shop/products/D30946DA-5D18-48D6-9890-63DC5DB36F77.jpg?v=1647614117', 'Size': 'XL', 'Color': 'Black', 'Style': 'Crewneck'}, {'id': '41228637634753', 'price': 180.0, 'variant_name': 'XL / Green / Hood', 'image': 'https://foreignfortune.com/cdn/shop/products/D30946DA-5D18-48D6-9890-63DC5DB36F77.jpg?v=1647614117', 'Size': 'XL', 'Color': 'Green', 'Style': 'Hood'}, {'id': '41228875137217', 'price': 180.0, 'variant_name': 'XL / Green / Crewneck', 'image': 'https://foreignfortune.com/cdn/shop/products/D30946DA-5D18-48D6-9890-63DC5DB36F77.jpg?v=1647614117', 'Size': 'XL', 'Color': 'Green', 'Style': 'Crewneck'}, {'id': '41228637733057', 'price': 180.0, 'variant_name': 'XL / Grey / Hood', 'image': 'https://foreignfortune.com/cdn/shop/products/D30946DA-5D18-48D6-9890-63DC5DB36F77.jpg?v=1647614117', 'Size': 'XL', 'Color': 'Grey', 'Style': 'Hood'}, {'id': '41228875301057', 'price': 180.0, 'variant_name': 'XL / Grey / Crewneck', 'image': 'https://foreignfortune.com/cdn/shop/products/D30946DA-5D18-48D6-9890-63DC5DB36F77.jpg?v=1647614117', 'Size': 'XL', 'Color': 'Grey', 'Style': 'Crewneck'}, {'id': '41417728557249', 'price': 180.0, 'variant_name': 'XL / Navy Blue / Hood', 'image': 'https://foreignfortune.com/cdn/shop/products/D30946DA-5D18-48D6-9890-63DC5DB36F77.jpg?v=1647614117', 'Size': 'XL', 'Color': 'Navy Blue', 'Style': 'Hood'}, {'id': '41417728590017', 'price': 180.0, 'variant_name': 'XL / Navy Blue / Crewneck', 'image': 'https://foreignfortune.com/cdn/shop/products/D30946DA-5D18-48D6-9890-63DC5DB36F77.jpg?v=1647614117', 'Size': 'XL', 'Color': 'Navy Blue', 'Style': 'Crewneck'}, {'id': '41417728622785', 'price': 180.0, 'variant_name': 'XL / Red / Hood', 'image': 'https://foreignfortune.com/cdn/shop/products/D30946DA-5D18-48D6-9890-63DC5DB36F77.jpg?v=1647614117', 'Size': 'XL', 'Color': 'Red', 'Style': 'Hood'}, {'id': '41417728655553', 'price': 180.0, 'variant_name': 'XL / Red / Crewneck', 'image': 'https://foreignfortune.com/cdn/shop/products/D30946DA-5D18-48D6-9890-63DC5DB36F77.jpg?v=1647614117', 'Size': 'XL', 'Color': 'Red', 'Style': 'Crewneck'}, {'id': '41417728688321', 'price': 180.0, 'variant_name': 'XL / Yellow / Hood', 'image': 'https://foreignfortune.com/cdn/shop/products/D30946DA-5D18-48D6-9890-63DC5DB36F77.jpg?v=1647614117', 'Size': 'XL', 'Color': 'Yellow', 'Style': 'Hood'}, {'id': '41417728721089', 'price': 180.0, 'variant_name': 'XL / Yellow / Crewneck', 'image': 'https://foreignfortune.com/cdn/shop/products/D30946DA-5D18-48D6-9890-63DC5DB36F77.jpg?v=1647614117', 'Size': 'XL', 'Color': 'Yellow', 'Style': 'Crewneck'}, {'id': '41228637765825', 'price': 180.0, 'variant_name': '2X / Black / Hood', 'image': 'https://foreignfortune.com/cdn/shop/products/D30946DA-5D18-48D6-9890-63DC5DB36F77.jpg?v=1647614117', 'Size': '2X', 'Color': 'Black', 'Style': 'Hood'}, {'id': '41228875333825', 'price': 180.0, 'variant_name': '2X / Black / Crewneck', 'image': 'https://foreignfortune.com/cdn/shop/products/D30946DA-5D18-48D6-9890-63DC5DB36F77.jpg?v=1647614117', 'Size': '2X', 'Color': 'Black', 'Style': 'Crewneck'}, {'id': '41228637798593', 'price': 180.0, 'variant_name': '2X / Green / Hood', 'image': 'https://foreignfortune.com/cdn/shop/products/D30946DA-5D18-48D6-9890-63DC5DB36F77.jpg?v=1647614117', 'Size': '2X', 'Color': 'Green', 'Style': 'Hood'}, {'id': '41228875366593', 'price': 180.0, 'variant_name': '2X / Green / Crewneck', 'image': 'https://foreignfortune.com/cdn/shop/products/D30946DA-5D18-48D6-9890-63DC5DB36F77.jpg?v=1647614117', 'Size': '2X', 'Color': 'Green', 'Style': 'Crewneck'}, {'id': '41228637896897', 'price': 180.0, 'variant_name': '2X / Grey / Hood', 'image': 'https://foreignfortune.com/cdn/shop/products/D30946DA-5D18-48D6-9890-63DC5DB36F77.jpg?v=1647614117', 'Size': '2X', 'Color': 'Grey', 'Style': 'Hood'}, {'id': '41228875464897', 'price': 180.0, 'variant_name': '2X / Grey / Crewneck', 'image': 'https://foreignfortune.com/cdn/shop/products/D30946DA-5D18-48D6-9890-63DC5DB36F77.jpg?v=1647614117', 'Size': '2X', 'Color': 'Grey', 'Style': 'Crewneck'}, {'id': '41417728753857', 'price': 180.0, 'variant_name': '2X / Navy Blue / Hood', 'image': 'https://foreignfortune.com/cdn/shop/products/D30946DA-5D18-48D6-9890-63DC5DB36F77.jpg?v=1647614117', 'Size': '2X', 'Color': 'Navy Blue', 'Style': 'Hood'}, {'id': '41417728786625', 'price': 180.0, 'variant_name': '2X / Navy Blue / Crewneck', 'image': 'https://foreignfortune.com/cdn/shop/products/D30946DA-5D18-48D6-9890-63DC5DB36F77.jpg?v=1647614117', 'Size': '2X', 'Color': 'Navy Blue', 'Style': 'Crewneck'}, {'id': '41417728819393', 'price': 180.0, 'variant_name': '2X / Red / Hood', 'image': 'https://foreignfortune.com/cdn/shop/products/D30946DA-5D18-48D6-9890-63DC5DB36F77.jpg?v=1647614117', 'Size': '2X', 'Color': 'Red', 'Style': 'Hood'}, {'id': '41417728852161', 'price': 180.0, 'variant_name': '2X / Red / Crewneck', 'image': 'https://foreignfortune.com/cdn/shop/products/D30946DA-5D18-48D6-9890-63DC5DB36F77.jpg?v=1647614117', 'Size': '2X', 'Color': 'Red', 'Style': 'Crewneck'}, {'id': '41417728884929', 'price': 180.0, 'variant_name': '2X / Yellow / Hood', 'image': 'https://foreignfortune.com/cdn/shop/products/D30946DA-5D18-48D6-9890-63DC5DB36F77.jpg?v=1647614117', 'Size': '2X', 'Color': 'Yellow', 'Style': 'Hood'}, {'id': '41417728917697', 'price': 180.0, 'variant_name': '2X / Yellow / Crewneck', 'image': 'https://foreignfortune.com/cdn/shop/products/D30946DA-5D18-48D6-9890-63DC5DB36F77.jpg?v=1647614117', 'Size': '2X', 'Color': 'Yellow', 'Style': 'Crewneck'}, {'id': '41228637929665', 'price': 180.0, 'variant_name': '3X / Black / Hood', 'image': 'https://foreignfortune.com/cdn/shop/products/D30946DA-5D18-48D6-9890-63DC5DB36F77.jpg?v=1647614117', 'Size': '3X', 'Color': 'Black', 'Style': 'Hood'}, {'id': '41228875497665', 'price': 180.0, 'variant_name': '3X / Black / Crewneck', 'image': 'https://foreignfortune.com/cdn/shop/products/D30946DA-5D18-48D6-9890-63DC5DB36F77.jpg?v=1647614117', 'Size': '3X', 'Color': 'Black', 'Style': 'Crewneck'}, {'id': '41228637962433', 'price': 180.0, 'variant_name': '3X / Green / Hood', 'image': 'https://foreignfortune.com/cdn/shop/products/D30946DA-5D18-48D6-9890-63DC5DB36F77.jpg?v=1647614117', 'Size': '3X', 'Color': 'Green', 'Style': 'Hood'}, {'id': '41228875530433', 'price': 180.0, 'variant_name': '3X / Green / Crewneck', 'image': 'https://foreignfortune.com/cdn/shop/products/D30946DA-5D18-48D6-9890-63DC5DB36F77.jpg?v=1647614117', 'Size': '3X', 'Color': 'Green', 'Style': 'Crewneck'}, {'id': '41228638060737', 'price': 180.0, 'variant_name': '3X / Grey / Hood', 'image': 'https://foreignfortune.com/cdn/shop/products/D30946DA-5D18-48D6-9890-63DC5DB36F77.jpg?v=1647614117', 'Size': '3X', 'Color': 'Grey', 'Style': 'Hood'}, {'id': '41228875661505', 'price': 180.0, 'variant_name': '3X / Grey / Crewneck', 'image': 'https://foreignfortune.com/cdn/shop/products/D30946DA-5D18-48D6-9890-63DC5DB36F77.jpg?v=1647614117', 'Size': '3X', 'Color': 'Grey', 'Style': 'Crewneck'}, {'id': '41417728950465', 'price': 180.0, 'variant_name': '3X / Navy Blue / Hood', 'image': 'https://foreignfortune.com/cdn/shop/products/D30946DA-5D18-48D6-9890-63DC5DB36F77.jpg?v=1647614117', 'Size': '3X', 'Color': 'Navy Blue', 'Style': 'Hood'}, {'id': '41417728983233', 'price': 180.0, 'variant_name': '3X / Navy Blue / Crewneck', 'image': 'https://foreignfortune.com/cdn/shop/products/D30946DA-5D18-48D6-9890-63DC5DB36F77.jpg?v=1647614117', 'Size': '3X', 'Color': 'Navy Blue', 'Style': 'Crewneck'}, {'id': '41417729016001', 'price': 180.0, 'variant_name': '3X / Red / Hood', 'image': 'https://foreignfortune.com/cdn/shop/products/D30946DA-5D18-48D6-9890-63DC5DB36F77.jpg?v=1647614117', 'Size': '3X', 'Color': 'Red', 'Style': 'Hood'}, {'id': '41417729048769', 'price': 180.0, 'variant_name': '3X / Red / Crewneck', 'image': 'https://foreignfortune.com/cdn/shop/products/D30946DA-5D18-48D6-9890-63DC5DB36F77.jpg?v=1647614117', 'Size': '3X', 'Color': 'Red', 'Style': 'Crewneck'}, {'id': '41417729081537', 'price': 180.0, 'variant_name': '3X / Yellow / Hood', 'image': 'https://foreignfortune.com/cdn/shop/products/D30946DA-5D18-48D6-9890-63DC5DB36F77.jpg?v=1647614117', 'Size': '3X', 'Color': 'Yellow', 'Style': 'Hood'}, {'id': '41417729114305', 'price': 180.0, 'variant_name': '3X / Yellow / Crewneck', 'image': 'https://foreignfortune.com/cdn/shop/products/D30946DA-5D18-48D6-9890-63DC5DB36F77.jpg?v=1647614117', 'Size': '3X', 'Color': 'Yellow', 'Style': 'Crewneck'}, {'id': '41228638093505', 'price': 180.0, 'variant_name': '4X / Black / Hood', 'image': 'https://foreignfortune.com/cdn/shop/products/D30946DA-5D18-48D6-9890-63DC5DB36F77.jpg?v=1647614117', 'Size': '4X', 'Color': 'Black', 'Style': 'Hood'}, {'id': '41228875694273', 'price': 180.0, 'variant_name': '4X / Black / Crewneck', 'image': 'https://foreignfortune.com/cdn/shop/products/D30946DA-5D18-48D6-9890-63DC5DB36F77.jpg?v=1647614117', 'Size': '4X', 'Color': 'Black', 'Style': 'Crewneck'}, {'id': '41228638159041', 'price': 180.0, 'variant_name': '4X / Green / Hood', 'image': 'https://foreignfortune.com/cdn/shop/products/D30946DA-5D18-48D6-9890-63DC5DB36F77.jpg?v=1647614117', 'Size': '4X', 'Color': 'Green', 'Style': 'Hood'}, {'id': '41228875727041', 'price': 180.0, 'variant_name': '4X / Green / Crewneck', 'image': 'https://foreignfortune.com/cdn/shop/products/D30946DA-5D18-48D6-9890-63DC5DB36F77.jpg?v=1647614117', 'Size': '4X', 'Color': 'Green', 'Style': 'Crewneck'}, {'id': '41228638257345', 'price': 180.0, 'variant_name': '4X / Grey / Hood', 'image': 'https://foreignfortune.com/cdn/shop/products/D30946DA-5D18-48D6-9890-63DC5DB36F77.jpg?v=1647614117', 'Size': '4X', 'Color': 'Grey', 'Style': 'Hood'}, {'id': '41228875825345', 'price': 180.0, 'variant_name': '4X / Grey / Crewneck', 'image': 'https://foreignfortune.com/cdn/shop/products/D30946DA-5D18-48D6-9890-63DC5DB36F77.jpg?v=1647614117', 'Size': '4X', 'Color': 'Grey', 'Style': 'Crewneck'}, {'id': '41417729147073', 'price': 180.0, 'variant_name': '4X / Navy Blue / Hood', 'image': 'https://foreignfortune.com/cdn/shop/products/D30946DA-5D18-48D6-9890-63DC5DB36F77.jpg?v=1647614117', 'Size': '4X', 'Color': 'Navy Blue', 'Style': 'Hood'}, {'id': '41417729179841', 'price': 180.0, 'variant_name': '4X / Navy Blue / Crewneck', 'image': 'https://foreignfortune.com/cdn/shop/products/D30946DA-5D18-48D6-9890-63DC5DB36F77.jpg?v=1647614117', 'Size': '4X', 'Color': 'Navy Blue', 'Style': 'Crewneck'}, {'id': '41417729212609', 'price': 180.0, 'variant_name': '4X / Red / Hood', 'image': 'https://foreignfortune.com/cdn/shop/products/D30946DA-5D18-48D6-9890-63DC5DB36F77.jpg?v=1647614117', 'Size': '4X', 'Color': 'Red', 'Style': 'Hood'}, {'id': '41417729245377', 'price': 180.0, 'variant_name': '4X / Red / Crewneck', 'image': 'https://foreignfortune.com/cdn/shop/products/D30946DA-5D18-48D6-9890-63DC5DB36F77.jpg?v=1647614117', 'Size': '4X', 'Color': 'Red', 'Style': 'Crewneck'}, {'id': '41417729278145', 'price': 180.0, 'variant_name': '4X / Yellow / Hood', 'image': 'https://foreignfortune.com/cdn/shop/products/D30946DA-5D18-48D6-9890-63DC5DB36F77.jpg?v=1647614117', 'Size': '4X', 'Color': 'Yellow', 'Style': 'Hood'}, {'id': '41417729310913', 'price': 180.0, 'variant_name': '4X / Yellow / Crewneck', 'image': 'https://foreignfortune.com/cdn/shop/products/D30946DA-5D18-48D6-9890-63DC5DB36F77.jpg?v=1647614117', 'Size': '4X', 'Color': 'Yellow', 'Style': 'Crewneck'}, {'id': '41228638322881', 'price': 180.0, 'variant_name': '5X / Black / Hood', 'image': 'https://foreignfortune.com/cdn/shop/products/D30946DA-5D18-48D6-9890-63DC5DB36F77.jpg?v=1647614117', 'Size': '5X', 'Color': 'Black', 'Style': 'Hood'}, {'id': '41228875858113', 'price': 180.0, 'variant_name': '5X / Black / Crewneck', 'image': 'https://foreignfortune.com/cdn/shop/products/D30946DA-5D18-48D6-9890-63DC5DB36F77.jpg?v=1647614117', 'Size': '5X', 'Color': 'Black', 'Style': 'Crewneck'}, {'id': '41228638355649', 'price': 180.0, 'variant_name': '5X / Green / Hood', 'image': 'https://foreignfortune.com/cdn/shop/products/D30946DA-5D18-48D6-9890-63DC5DB36F77.jpg?v=1647614117', 'Size': '5X', 'Color': 'Green', 'Style': 'Hood'}, {'id': '41228875890881', 'price': 180.0, 'variant_name': '5X / Green / Crewneck', 'image': 'https://foreignfortune.com/cdn/shop/products/D30946DA-5D18-48D6-9890-63DC5DB36F77.jpg?v=1647614117', 'Size': '5X', 'Color': 'Green', 'Style': 'Crewneck'}, {'id': '41228638453953', 'price': 180.0, 'variant_name': '5X / Grey / Hood', 'image': 'https://foreignfortune.com/cdn/shop/products/D30946DA-5D18-48D6-9890-63DC5DB36F77.jpg?v=1647614117', 'Size': '5X', 'Color': 'Grey', 'Style': 'Hood'}, {'id': '41228875989185', 'price': 180.0, 'variant_name': '5X / Grey / Crewneck', 'image': 'https://foreignfortune.com/cdn/shop/products/D30946DA-5D18-48D6-9890-63DC5DB36F77.jpg?v=1647614117', 'Size': '5X', 'Color': 'Grey', 'Style': 'Crewneck'}, {'id': '41417729343681', 'price': 180.0, 'variant_name': '5X / Navy Blue / Hood', 'image': 'https://foreignfortune.com/cdn/shop/products/D30946DA-5D18-48D6-9890-63DC5DB36F77.jpg?v=1647614117', 'Size': '5X', 'Color': 'Navy Blue', 'Style': 'Hood'}, {'id': '41417729376449', 'price': 180.0, 'variant_name': '5X / Navy Blue / Crewneck', 'image': 'https://foreignfortune.com/cdn/shop/products/D30946DA-5D18-48D6-9890-63DC5DB36F77.jpg?v=1647614117', 'Size': '5X', 'Color': 'Navy Blue', 'Style': 'Crewneck'}, {'id': '41417729409217', 'price': 180.0, 'variant_name': '5X / Red / Hood', 'image': 'https://foreignfortune.com/cdn/shop/products/D30946DA-5D18-48D6-9890-63DC5DB36F77.jpg?v=1647614117', 'Size': '5X', 'Color': 'Red', 'Style': 'Hood'}, {'id': '41417729441985', 'price': 180.0, 'variant_name': '5X / Red / Crewneck', 'image': 'https://foreignfortune.com/cdn/shop/products/D30946DA-5D18-48D6-9890-63DC5DB36F77.jpg?v=1647614117', 'Size': '5X', 'Color': 'Red', 'Style': 'Crewneck'}, {'id': '41417729474753', 'price': 180.0, 'variant_name': '5X / Yellow / Hood', 'image': 'https://foreignfortune.com/cdn/shop/products/D30946DA-5D18-48D6-9890-63DC5DB36F77.jpg?v=1647614117', 'Size': '5X', 'Color': 'Yellow', 'Style': 'Hood'}, {'id': '41417729507521', 'price': 180.0, 'variant_name': '5X / Yellow / Crewneck', 'image': 'https://foreignfortune.com/cdn/shop/products/D30946DA-5D18-48D6-9890-63DC5DB36F77.jpg?v=1647614117', 'Size': '5X', 'Color': 'Yellow', 'Style': 'Crewneck'}], 'original_price': 180.0, 'selling_price': 180.0, 'title': 'Foreign Fortune Collection Joggers- Adult', 'url': 'https://foreignfortune.com/products/foreign-fortune-collection-joggers-1', 'product_id': 'foreign-fortune-collection-joggers-1', 'category': 'Men/Unisex'}\n"
     ]
    }
   ],
   "source": [
    "import requests\n",
    "import re\n",
    "import json\n",
    "from bs4 import BeautifulSoup\n",
    "\n",
    "def scrape_meta_json(url,category):\n",
    "    try:\n",
    "        response = requests.get(url)\n",
    "        if response.status_code == 200:\n",
    "            soup = BeautifulSoup(response.text, 'html.parser')\n",
    "            script_tag = soup.find(\"script\", {\"id\": \"ProductJson-product-template\"})\n",
    "            if script_tag:\n",
    "                json_string = script_tag.string\n",
    "                product_json = json.loads(json_string)\n",
    "                title = product_json.get('title')\n",
    "                image = \"https:\" + product_json.get('featured_image', '')\n",
    "                images_pre = product_json.get('images', [])\n",
    "                images = ['https:' + img for img in images_pre]\n",
    "                original_price = product_json.get('price_max', 0) / 100\n",
    "                selling_price = product_json.get('price', 0) / 100\n",
    "                brand = product_json.get('vendor')\n",
    "                description = product_json.get('description')\n",
    "                product_id = product_json.get('handle')\n",
    "                options=product_json.get('options')\n",
    "            else:\n",
    "                print(\"No script tag found with ID 'ProductJson-product-template'.\")\n",
    "                return None            \n",
    "            \n",
    "            match2 = re.search(r'productVariants\":\\s*(\\[{.*?}\\])', response.text)\n",
    "            #print(match2)\n",
    "            if match2:\n",
    "                product_variants_json = match2.group(1)\n",
    "                #print(product_variants_json)\n",
    "                product_variants = json.loads(product_variants_json)\n",
    "                variant_list=[]\n",
    "                for variant_value in product_variants:\n",
    "                    variant_data = {\n",
    "                        \"id\": variant_value['id'],\n",
    "                        \"price\": variant_value['price']['amount'],\n",
    "                        \"variant_name\": variant_value['title'],\n",
    "                        \"image\": \"https:\" + variant_value['image']['src'],\n",
    "                    }\n",
    "                    for product_variant in product_json['variants']:\n",
    "                        #print(product_variant['id'],variant_value['id'])\n",
    "                        if int(product_variant['id']) == int(variant_value['id']):\n",
    "                            #print(\"MATCH\")\n",
    "                            for option_index, option_value in enumerate(options):\n",
    "                                #print(option_index,option_value)\n",
    "                                option_value_index = product_variant['options'][option_index]\n",
    "                                variant_data[str(option_value)] = option_value_index\n",
    "                    variant_list.append(variant_data)\n",
    "            else:\n",
    "                variant_list = None\n",
    "\n",
    "            final_json = {\n",
    "                \"brand\": brand,\n",
    "                \"description\": description,\n",
    "                \"image\": image,\n",
    "                \"images\": images,\n",
    "                \"variants\": variant_list,\n",
    "                \"original_price\": original_price,\n",
    "                \"selling_price\": selling_price,\n",
    "                \"title\": title,\n",
    "                \"url\": \"https://foreignfortune.com/products/\" + product_id,\n",
    "                \"product_id\": product_id,\n",
    "                \"category\":category,\n",
    "            }\n",
    "            return final_json\n",
    "        else:\n",
    "            print(f\"Failed to fetch the URL. Status code: {response.status_code}\")\n",
    "            return {}\n",
    "    except Exception as e:\n",
    "        print(f\"An error occurred: {str(e)}\")\n",
    "        return {}\n",
    "\n",
    "url = \"https://foreignfortune.com/collections/men-unisex/products/foreign-fortune-collection-joggers-1\"\n",
    "category=\"Men/Unisex\"\n",
    "meta_data = scrape_meta_json(url,category)\n",
    "print(meta_data)\n"
   ]
  },
  {
   "cell_type": "markdown",
   "metadata": {},
   "source": [
    "# Scraping PDP Data and Storing in Final JSON"
   ]
  },
  {
   "cell_type": "code",
   "execution_count": 8,
   "metadata": {},
   "outputs": [
    {
     "name": "stdout",
     "output_type": "stream",
     "text": [
      "Men/Unisex\n",
      "Women\n",
      "Infant/Kid\n",
      "Coats/Hats\n",
      "TrackSuits\n",
      "Foreign Rovalf\n",
      "Accessories\n"
     ]
    }
   ],
   "source": [
    "import time\n",
    "import random\n",
    "final_list=[]\n",
    "\n",
    "for category_data in category_wise_dict:\n",
    "    print(category_data)\n",
    "    for category_links in category_wise_dict[category_data]:\n",
    "        json_response = scrape_meta_json(category_links, category_data)\n",
    "        final_list.append(json_response)\n",
    "        time.sleep(random.uniform(1, 3))\n",
    "\n",
    "with open('foreignfortune_pdp_data.json', 'w') as outfile:\n",
    "    json.dump(final_list, outfile)\n",
    "\n",
    "        "
   ]
  }
 ],
 "metadata": {
  "kernelspec": {
   "display_name": "Python 3",
   "language": "python",
   "name": "python3"
  },
  "language_info": {
   "codemirror_mode": {
    "name": "ipython",
    "version": 3
   },
   "file_extension": ".py",
   "mimetype": "text/x-python",
   "name": "python",
   "nbconvert_exporter": "python",
   "pygments_lexer": "ipython3",
   "version": "3.10.10"
  }
 },
 "nbformat": 4,
 "nbformat_minor": 2
}
